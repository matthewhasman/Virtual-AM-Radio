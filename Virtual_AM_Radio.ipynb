{
  "cells": [
    {
      "cell_type": "markdown",
      "metadata": {
        "id": "view-in-github",
        "colab_type": "text"
      },
      "source": [
        "<a href=\"https://colab.research.google.com/github/matthewhasman/Virtual-AM-Radio/blob/main/Virtual_AM_Radio.ipynb\" target=\"_parent\"><img src=\"https://colab.research.google.com/assets/colab-badge.svg\" alt=\"Open In Colab\"/></a>"
      ]
    },
    {
      "cell_type": "markdown",
      "id": "ae905c9c-f3b6-4d62-bc68-09db085fe91c",
      "metadata": {
        "id": "ae905c9c-f3b6-4d62-bc68-09db085fe91c"
      },
      "source": [
        "# Virtual AM Radio"
      ]
    },
    {
      "cell_type": "code",
      "execution_count": null,
      "id": "294a2119-bb86-442f-b340-c34071caaca6",
      "metadata": {
        "id": "294a2119-bb86-442f-b340-c34071caaca6"
      },
      "outputs": [],
      "source": [
        "import numpy as np\n",
        "import matplotlib.pyplot as plt\n",
        "from scipy.io import wavfile\n",
        "from IPython.display import Audio, Image\n",
        "from IPython.core.display import HTML"
      ]
    },
    {
      "cell_type": "markdown",
      "id": "ab129db3-d847-4141-a891-f28dfc60df21",
      "metadata": {
        "id": "ab129db3-d847-4141-a891-f28dfc60df21"
      },
      "source": [
        "This is a simulated AM radio which realistically conducts the operation of the receiver and demodulation process of a radio. The radio is capable of broadcasting music stations spaced 20kHz apart. "
      ]
    },
    {
      "cell_type": "markdown",
      "id": "7bdb27be-7125-4c56-bc16-ff23335d9936",
      "metadata": {
        "id": "7bdb27be-7125-4c56-bc16-ff23335d9936"
      },
      "source": [
        "5 songs are uploaded as an example. A sampling rate of ~40000 samples/second is required to satisfy the Nyquist theorem, as music often occupies approximately 20kHz of spectrum. "
      ]
    },
    {
      "cell_type": "code",
      "source": [
        "input_audio1 = wavfile.read(\"clip1.wav\")\n",
        "sample_rate1 = input_audio1[0]\n",
        "channel0_1 = input_audio1[1][:, 0]\n",
        "input_audio2 = wavfile.read(\"clip2.wav\")\n",
        "sample_rate2 = input_audio2[0]\n",
        "channel0_2 = input_audio2[1][:, 0]\n",
        "input_audio3 = wavfile.read(\"clip3.wav\")\n",
        "sample_rate3 = input_audio3[0]\n",
        "channel0_3 = input_audio3[1][:, 0]\n",
        "input_audio4 = wavfile.read(\"clip4.wav\")\n",
        "sample_rate4 = input_audio4[0]\n",
        "channel0_4 = input_audio4[1][:, 0]\n",
        "input_audio5 = wavfile.read(\"clip5.wav\")\n",
        "sample_rate5 = input_audio5[0]\n",
        "channel0_5 = input_audio5[1][:, 0]"
      ],
      "metadata": {
        "id": "dUP4JtEv2_IS"
      },
      "id": "dUP4JtEv2_IS",
      "execution_count": null,
      "outputs": []
    },
    {
      "cell_type": "code",
      "execution_count": null,
      "id": "ff25b872-688d-433b-a84a-b766506ef057",
      "metadata": {
        "id": "ff25b872-688d-433b-a84a-b766506ef057",
        "colab": {
          "base_uri": "https://localhost:8080/",
          "height": 355
        },
        "outputId": "569ab0b0-658a-41f0-b87e-30de35302c0f"
      },
      "outputs": [
        {
          "output_type": "execute_result",
          "data": {
            "text/plain": [
              "Text(0.5, 0, 'Frequency (Hz)')"
            ]
          },
          "metadata": {},
          "execution_count": 48
        },
        {
          "output_type": "display_data",
          "data": {
            "text/plain": [
              "<Figure size 1440x360 with 1 Axes>"
            ],
            "image/png": "[encoded data removed]"
          },
          "metadata": {
            "needs_background": "light"
          }
        }
      ],
      "source": [
        "song_1 = np.array(channel0_1, dtype=np.float64)[:221807] / np.max(channel0_1)\n",
        "song_2 = np.array(channel0_2, dtype=np.float64)[:221807] / np.max(channel0_2)\n",
        "song_3 = np.array(channel0_3, dtype=np.float64)[:221807] / np.max(channel0_3)\n",
        "song_4 = np.array(channel0_4, dtype=np.float64)[:221807] / np.max(channel0_4)\n",
        "song_5 = np.array(channel0_5, dtype=np.float64)[:221807] / np.max(channel0_5)\n",
        "\n",
        "frequencies = np.fft.fftfreq(len(song_4), 1/sample_rate1)\n",
        "spectrum = np.fft.fft(song_4)\n",
        "\n",
        "plt.figure(figsize=(20, 5))\n",
        "plt.plot(frequencies, spectrum.real)\n",
        "plt.xlabel(\"Frequency (Hz)\", fontsize=14)"
      ]
    },
    {
      "cell_type": "markdown",
      "id": "955eec96-6037-402a-8b29-67314422da56",
      "metadata": {
        "id": "955eec96-6037-402a-8b29-67314422da56"
      },
      "source": [
        "## Part 1. The broadcast"
      ]
    },
    {
      "cell_type": "markdown",
      "id": "1eb96553-1e57-4c7f-ac97-62f829e68c38",
      "metadata": {
        "id": "1eb96553-1e57-4c7f-ac97-62f829e68c38"
      },
      "source": [
        "First, a lowpass filter is designed to reduce the bandwidth of a signal to within the acceptable range of our radio stations."
      ]
    },
    {
      "cell_type": "code",
      "execution_count": null,
      "id": "e55c0059-8650-4386-9efe-067d4d570dd4",
      "metadata": {
        "id": "e55c0059-8650-4386-9efe-067d4d570dd4"
      },
      "outputs": [],
      "source": [
        "def reduce_signal_bandwidth(signal, sample_rate, max_freq=10000):\n",
        "    \"\"\"Reduce the bandwidth of a signal to within a ~20 kHz band.\n",
        "    \n",
        "    Args:\n",
        "        signal (array[float]): A real-valued signal.\n",
        "        \n",
        "    Returns:\n",
        "        array[float]: A signal that has been filtered so that its spectrum is \n",
        "        band-limited. \n",
        "    \"\"\"\n",
        "\n",
        "    frequencies = np.fft.fftfreq(len(signal), 1/sample_rate)\n",
        "    spectrum = np.fft.fft(signal)\n",
        "    max_freq = 10000\n",
        "\n",
        "    filter = np.zeros(len(spectrum), dtype=np.complex128)\n",
        "\n",
        "    for i in range(len(spectrum)):\n",
        "      if np.abs(frequencies[i]) <= max_freq:\n",
        "        filter[i] = spectrum[i]\n",
        "\n",
        "    return np.fft.ifft(filter)"
      ]
    },
    {
      "cell_type": "markdown",
      "id": "e9fa60d0-8625-4cad-8833-00e7d84f81f0",
      "metadata": {
        "id": "e9fa60d0-8625-4cad-8833-00e7d84f81f0"
      },
      "source": [
        "Next a function must perform sinusoidal amplitude modulation of a signal into the frequency range of a desired radio station."
      ]
    },
    {
      "cell_type": "code",
      "execution_count": null,
      "id": "e7700f9d-3610-4059-b110-edd439df33e3",
      "metadata": {
        "id": "e7700f9d-3610-4059-b110-edd439df33e3"
      },
      "outputs": [],
      "source": [
        "def sinusoidal_amplitude_modulation(signal, station_frequency, sample_rate, phase=0.0):\n",
        "    \"\"\"Modulate a signal up to the frequency of a desired AM radio station.\n",
        "    \n",
        "    Args:\n",
        "        signal (array[float]): A real-valued signal.\n",
        "        station_frequency (int): The (carrier) frequency of the station, in kHz.\n",
        "        phase (float): The phase of the carrier signal. \n",
        "        \n",
        "    Returns:\n",
        "        array[float]: The modulated signal.\n",
        "    \"\"\"\n",
        "    output = np.zeros(len(signal), dtype=np.complex128)\n",
        "    for i in range(len(output)):\n",
        "      output[i] = signal[i] * np.cos(2*np.pi*station_frequency*1000*i/sample_rate + phase)\n",
        "\n",
        "    return output"
      ]
    },
    {
      "cell_type": "markdown",
      "id": "35320396-1bd2-47bd-b0ff-e864a412f4c9",
      "metadata": {
        "id": "35320396-1bd2-47bd-b0ff-e864a412f4c9"
      },
      "source": [
        "This radio uses frequency-division multiplexing (FDM) to send multiple signals over the same channel. The following implements a broadcast (transmission) system that takes a set of signals as input, and outputs the full radio broadcast. Upsampling of a factor of 35 is required to compress the frequency spectrum of the signals to fit in their respective broadcasting channels without aliasing. "
      ]
    },
    {
      "cell_type": "code",
      "execution_count": null,
      "id": "058a3eb2-c41a-48e7-a149-97c8f2b5433f",
      "metadata": {
        "id": "058a3eb2-c41a-48e7-a149-97c8f2b5433f"
      },
      "outputs": [],
      "source": [
        "def broadcast(signals, sample_rate):\n",
        "    \"\"\"Broadcast a set of signals at different frequencies to simulate \n",
        "    a set of radio stations.\n",
        "    \n",
        "    Args:\n",
        "        signals (list[array[float]]): A list of signals to be transmitted. \n",
        "             Assume that they are provided in order of increasing station frequency.\n",
        "    \n",
        "    Returns:\n",
        "        array[float]: A single channel contain the frequency-division multiplexed\n",
        "        set of signals.\n",
        "    \"\"\"\n",
        "\n",
        "    output = np.zeros_like(len(np.repeat(signals[0], 35)), dtype=np.complex128)\n",
        "    freqs = [580, 600, 620, 640, 660]\n",
        "    for i in range(len(signals)):\n",
        "        reduced_band = np.repeat(signals[i], 35)\n",
        "        output = output + sinusoidal_amplitude_modulation(reduced_band, freqs[i], sample_rate*35, phase=0.0)\n",
        "\n",
        "    return output"
      ]
    },
    {
      "cell_type": "markdown",
      "id": "773cd4bd-2528-43e8-bbd6-3bb5d264d9ec",
      "metadata": {
        "id": "773cd4bd-2528-43e8-bbd6-3bb5d264d9ec"
      },
      "source": [
        "## Part 2. A  Receiver"
      ]
    },
    {
      "cell_type": "markdown",
      "id": "83cc189c-65ff-48c3-a9f8-1a20178712a1",
      "metadata": {
        "id": "83cc189c-65ff-48c3-a9f8-1a20178712a1"
      },
      "source": [
        "In order to test the broadcasting setup, I have implemented a synchronous demodulation system."
      ]
    },
    {
      "cell_type": "code",
      "execution_count": null,
      "id": "fe5dc5b8-9a16-49a9-92cd-25ca9698fd4b",
      "metadata": {
        "id": "fe5dc5b8-9a16-49a9-92cd-25ca9698fd4b"
      },
      "outputs": [],
      "source": [
        "def simple_receiver(broadcast, station_frequency, sample_rate, phase=0.0, bandpass=True):\n",
        "    \"\"\"Demodulate the radio broadcast and extract a desired station.\n",
        "    \n",
        "    \n",
        "    Args:\n",
        "        broadcast (array[float]): A radio broadcast consisting of five channels\n",
        "            that have been FD multiplexed.\n",
        "        station_frequency (int): The frequency (in kHz) of the radio station.\n",
        "        phase (float): The phase of the demodulating signal.\n",
        "        bandpass (bool): Whether or not to apply a bandpass filter before\n",
        "            demodulating and filtering.\n",
        "    \n",
        "    Returns:\n",
        "        array[float]: The signal of the radio station at the desired frequency.\n",
        "    \"\"\"\n",
        "\n",
        "    frequencies = np.fft.fftfreq(len(broadcast), 1/(sample_rate*35))\n",
        "    spectrum = np.fft.fft(broadcast)\n",
        "    max_freq = 10000\n",
        "\n",
        "    if bandpass:\n",
        "      bandPass = np.zeros(len(spectrum), dtype=np.complex128)\n",
        "      for i in range(len(spectrum)):\n",
        "        if np.abs(frequencies[i]) <= max_freq + station_frequency*1000 and np.abs(frequencies[i]) >= station_frequency*1000 - max_freq:\n",
        "          bandPass[i] = spectrum[i]\n",
        "\n",
        "    else:\n",
        "      bandPass = spectrum\n",
        "\n",
        "    song = np.fft.ifft(bandPass)\n",
        "\n",
        "    frequencies2 = np.fft.fftfreq(len(song), 1/(sample_rate1*35))\n",
        "    spectrum2 = np.fft.fft(song)\n",
        "\n",
        "    shifted = np.zeros(len(song), dtype=np.complex128)\n",
        "    for i in range(len(song)):\n",
        "        shifted[i] = (song[i] * np.cos(2*np.pi*station_frequency*1000*i/(sample_rate*35) + phase))\n",
        "\n",
        "    # Undo the upsampling that was conducted during the broadcasting process\n",
        "    decimated = np.zeros(int(np.floor(len(shifted)/35)))\n",
        "    for i in range(len(shifted)):\n",
        "      j = int(i/35)\n",
        "      if i % 35 == 0:\n",
        "        decimated[j] = shifted[i]\n",
        "\n",
        "    frequencies3 = np.fft.fftfreq(len(decimated), 1/(sample_rate1))\n",
        "    spectrum3 = np.fft.fft(decimated)\n",
        "    max_freq = 8000\n",
        "\n",
        "    filter = np.zeros(len(spectrum3), dtype=np.complex128)\n",
        "\n",
        "    for i in range(len(frequencies3)):\n",
        "      if np.abs(frequencies3[i]) <= max_freq:\n",
        "        filter[i] = spectrum3[i]\n",
        "\n",
        "    frequencies4 = np.fft.fftfreq(len(filter), 1/(sample_rate1))\n",
        "    spectrum4 = filter\n",
        "\n",
        "    return np.fft.ifft(filter)"
      ]
    },
    {
      "cell_type": "markdown",
      "id": "0ed4580d-83f9-4fbf-a11c-18ba0c427f0d",
      "metadata": {
        "id": "0ed4580d-83f9-4fbf-a11c-18ba0c427f0d"
      },
      "source": [
        "Testing the demodulation function below to extract the 600 kHz station."
      ]
    },
    {
      "cell_type": "code",
      "execution_count": null,
      "id": "5ef4c5a6-1f92-4179-a99c-6a78c38c8fec",
      "metadata": {
        "id": "5ef4c5a6-1f92-4179-a99c-6a78c38c8fec"
      },
      "outputs": [],
      "source": [
        "signals = [song_1, song_2, song_3, song_4, song_5]\n",
        "\n",
        "song1 = reduce_signal_bandwidth(song_1, sample_rate1)\n",
        "song2 = reduce_signal_bandwidth(song_2, sample_rate1)\n",
        "song3 = reduce_signal_bandwidth(song_3, sample_rate1)\n",
        "song4 = reduce_signal_bandwidth(song_4, sample_rate1)\n",
        "song5 = reduce_signal_bandwidth(song_5, sample_rate1)\n",
        "\n",
        "input = [song1, song2, song3, song4, song5]\n",
        "broadcast1 = broadcast(input, sample_rate1)\n",
        "\n",
        "frequencies2 = np.fft.fftfreq(len(broadcast1), 1/(sample_rate1*35))\n",
        "spectrum2 = np.fft.fft(broadcast1)"
      ]
    }
  ],
  "metadata": {
    "kernelspec": {
      "display_name": "Python 3 (ipykernel)",
      "language": "python",
      "name": "python3"
    },
    "language_info": {
      "codemirror_mode": {
        "name": "ipython",
        "version": 3
      },
      "file_extension": ".py",
      "mimetype": "text/x-python",
      "name": "python",
      "nbconvert_exporter": "python",
      "pygments_lexer": "ipython3",
      "version": "3.9.12"
    },
    "colab": {
      "provenance": [],
      "include_colab_link": true
    },
    "gpuClass": "standard"
  },
  "nbformat": 4,
  "nbformat_minor": 5
}